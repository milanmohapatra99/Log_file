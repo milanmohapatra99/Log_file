{
 "cells": [
  {
   "cell_type": "markdown",
   "id": "f8cf3212",
   "metadata": {},
   "source": [
    "Q.w.a.p to mime a log file and findout wheather it contains 'python'"
   ]
  },
  {
   "cell_type": "code",
   "execution_count": 4,
   "id": "f896662e",
   "metadata": {},
   "outputs": [
    {
     "name": "stdout",
     "output_type": "stream",
     "text": [
      "Yes python is present\n"
     ]
    }
   ],
   "source": [
    "with open(\"log.txt\")as f:\n",
    "    content = f.read().lower()\n",
    "if 'python' in content:\n",
    "    print(\"Yes python is present\")\n",
    "else:\n",
    "    print(\"No python is not present\")\n",
    "    "
   ]
  },
  {
   "cell_type": "code",
   "execution_count": null,
   "id": "bc88e222",
   "metadata": {},
   "outputs": [],
   "source": []
  }
 ],
 "metadata": {
  "kernelspec": {
   "display_name": "Python 3 (ipykernel)",
   "language": "python",
   "name": "python3"
  },
  "language_info": {
   "codemirror_mode": {
    "name": "ipython",
    "version": 3
   },
   "file_extension": ".py",
   "mimetype": "text/x-python",
   "name": "python",
   "nbconvert_exporter": "python",
   "pygments_lexer": "ipython3",
   "version": "3.9.7"
  }
 },
 "nbformat": 4,
 "nbformat_minor": 5
}
